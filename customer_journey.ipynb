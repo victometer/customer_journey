{
 "cells": [
  {
   "cell_type": "code",
   "execution_count": 58,
   "metadata": {},
   "outputs": [],
   "source": [
    "import pandas as pd\n",
    "import numpy as np"
   ]
  },
  {
   "cell_type": "code",
   "execution_count": 3,
   "metadata": {},
   "outputs": [],
   "source": [
    "df = pd.read_csv('user_journey_raw.csv')"
   ]
  },
  {
   "cell_type": "code",
   "execution_count": 4,
   "metadata": {},
   "outputs": [
    {
     "data": {
      "text/html": [
       "<div>\n",
       "<style scoped>\n",
       "    .dataframe tbody tr th:only-of-type {\n",
       "        vertical-align: middle;\n",
       "    }\n",
       "\n",
       "    .dataframe tbody tr th {\n",
       "        vertical-align: top;\n",
       "    }\n",
       "\n",
       "    .dataframe thead th {\n",
       "        text-align: right;\n",
       "    }\n",
       "</style>\n",
       "<table border=\"1\" class=\"dataframe\">\n",
       "  <thead>\n",
       "    <tr style=\"text-align: right;\">\n",
       "      <th></th>\n",
       "      <th>user_id</th>\n",
       "      <th>session_id</th>\n",
       "      <th>subscription_type</th>\n",
       "      <th>user_journey</th>\n",
       "    </tr>\n",
       "  </thead>\n",
       "  <tbody>\n",
       "    <tr>\n",
       "      <th>0</th>\n",
       "      <td>1516</td>\n",
       "      <td>2980231</td>\n",
       "      <td>Annual</td>\n",
       "      <td>Homepage-Log in-Log in-Log in-Log in-Log in-Lo...</td>\n",
       "    </tr>\n",
       "    <tr>\n",
       "      <th>1</th>\n",
       "      <td>1516</td>\n",
       "      <td>2980248</td>\n",
       "      <td>Annual</td>\n",
       "      <td>Other-Sign up-Sign up-Sign up-Sign up-Sign up-...</td>\n",
       "    </tr>\n",
       "    <tr>\n",
       "      <th>2</th>\n",
       "      <td>1516</td>\n",
       "      <td>2992252</td>\n",
       "      <td>Annual</td>\n",
       "      <td>Log in-Log in-Log in-Log in-Log in-Log in</td>\n",
       "    </tr>\n",
       "    <tr>\n",
       "      <th>3</th>\n",
       "      <td>1516</td>\n",
       "      <td>3070491</td>\n",
       "      <td>Annual</td>\n",
       "      <td>Homepage-Log in-Log in-Log in-Log in-Log in-Lo...</td>\n",
       "    </tr>\n",
       "    <tr>\n",
       "      <th>4</th>\n",
       "      <td>1516</td>\n",
       "      <td>3709807</td>\n",
       "      <td>Annual</td>\n",
       "      <td>Log in-Log in-Log in-Log in-Log in-Log in-Log ...</td>\n",
       "    </tr>\n",
       "  </tbody>\n",
       "</table>\n",
       "</div>"
      ],
      "text/plain": [
       "   user_id  session_id subscription_type  \\\n",
       "0     1516     2980231            Annual   \n",
       "1     1516     2980248            Annual   \n",
       "2     1516     2992252            Annual   \n",
       "3     1516     3070491            Annual   \n",
       "4     1516     3709807            Annual   \n",
       "\n",
       "                                        user_journey  \n",
       "0  Homepage-Log in-Log in-Log in-Log in-Log in-Lo...  \n",
       "1  Other-Sign up-Sign up-Sign up-Sign up-Sign up-...  \n",
       "2          Log in-Log in-Log in-Log in-Log in-Log in  \n",
       "3  Homepage-Log in-Log in-Log in-Log in-Log in-Lo...  \n",
       "4  Log in-Log in-Log in-Log in-Log in-Log in-Log ...  "
      ]
     },
     "execution_count": 4,
     "metadata": {},
     "output_type": "execute_result"
    }
   ],
   "source": [
    "df.head()"
   ]
  },
  {
   "cell_type": "code",
   "execution_count": 22,
   "metadata": {},
   "outputs": [
    {
     "data": {
      "text/plain": [
       "['Homepage',\n",
       " 'Log in',\n",
       " 'Log in',\n",
       " 'Log in',\n",
       " 'Log in',\n",
       " 'Log in',\n",
       " 'Log in',\n",
       " 'Log in',\n",
       " 'Log in',\n",
       " 'Log in',\n",
       " 'Log in',\n",
       " 'Log in',\n",
       " 'Log in',\n",
       " 'Log in',\n",
       " 'Log in',\n",
       " 'Log in',\n",
       " 'Log in',\n",
       " 'Other']"
      ]
     },
     "execution_count": 22,
     "metadata": {},
     "output_type": "execute_result"
    }
   ],
   "source": [
    "df['user_journey'][0].split('-')"
   ]
  },
  {
   "cell_type": "code",
   "execution_count": 6,
   "metadata": {},
   "outputs": [
    {
     "data": {
      "text/plain": [
       "(9935, 4)"
      ]
     },
     "execution_count": 6,
     "metadata": {},
     "output_type": "execute_result"
    }
   ],
   "source": [
    "df.shape"
   ]
  },
  {
   "cell_type": "code",
   "execution_count": 12,
   "metadata": {},
   "outputs": [
    {
     "data": {
      "text/plain": [
       "user_id              0\n",
       "session_id           0\n",
       "subscription_type    0\n",
       "user_journey         0\n",
       "dtype: int64"
      ]
     },
     "execution_count": 12,
     "metadata": {},
     "output_type": "execute_result"
    }
   ],
   "source": [
    "df.isnull().sum()"
   ]
  },
  {
   "cell_type": "code",
   "execution_count": 17,
   "metadata": {},
   "outputs": [
    {
     "data": {
      "text/plain": [
       "array(['Annual', 'Monthly', 'Quarterly'], dtype=object)"
      ]
     },
     "execution_count": 17,
     "metadata": {},
     "output_type": "execute_result"
    }
   ],
   "source": [
    "df['subscription_type'].unique()"
   ]
  },
  {
   "cell_type": "code",
   "execution_count": 19,
   "metadata": {},
   "outputs": [
    {
     "data": {
      "text/plain": [
       "1841"
      ]
     },
     "execution_count": 19,
     "metadata": {},
     "output_type": "execute_result"
    }
   ],
   "source": [
    "df['user_journey'].nunique()"
   ]
  },
  {
   "cell_type": "markdown",
   "metadata": {},
   "source": [
    "# Data preprocessing"
   ]
  },
  {
   "cell_type": "markdown",
   "metadata": {},
   "source": [
    "### 1. Remove duplicates from the user_journey column"
   ]
  },
  {
   "cell_type": "code",
   "execution_count": 111,
   "metadata": {},
   "outputs": [],
   "source": [
    "def remove_page_duplicates(datafr, target_column):\n",
    "    new_journey_col = []\n",
    "    for journey in datafr[target_column]:\n",
    "        list_ = journey.split('-')\n",
    "        no_duplicates = []\n",
    "        for page in list_:\n",
    "            if page not in no_duplicates:\n",
    "                no_duplicates.append(page)\n",
    "        new_journey_col.append(no_duplicates)\n",
    "\n",
    "    # turn the list of lists (new_journey_col) into a series to be able to join the words back with '-'\n",
    "    s = pd.Series(new_journey_col)\n",
    "    new_journey = s.str.join('-')\n",
    "\n",
    "    # create a copy of the original dataframe with an updated column\n",
    "    data = datafr.copy(deep=True)\n",
    "    data[target_column] = new_journey\n",
    "    return data"
   ]
  },
  {
   "cell_type": "code",
   "execution_count": 154,
   "metadata": {},
   "outputs": [],
   "source": [
    "data = remove_page_duplicates(df, 'user_journey')"
   ]
  },
  {
   "cell_type": "code",
   "execution_count": 155,
   "metadata": {},
   "outputs": [
    {
     "data": {
      "text/html": [
       "<div>\n",
       "<style scoped>\n",
       "    .dataframe tbody tr th:only-of-type {\n",
       "        vertical-align: middle;\n",
       "    }\n",
       "\n",
       "    .dataframe tbody tr th {\n",
       "        vertical-align: top;\n",
       "    }\n",
       "\n",
       "    .dataframe thead th {\n",
       "        text-align: right;\n",
       "    }\n",
       "</style>\n",
       "<table border=\"1\" class=\"dataframe\">\n",
       "  <thead>\n",
       "    <tr style=\"text-align: right;\">\n",
       "      <th></th>\n",
       "      <th>user_id</th>\n",
       "      <th>session_id</th>\n",
       "      <th>subscription_type</th>\n",
       "      <th>user_journey</th>\n",
       "    </tr>\n",
       "  </thead>\n",
       "  <tbody>\n",
       "    <tr>\n",
       "      <th>0</th>\n",
       "      <td>1516</td>\n",
       "      <td>2980231</td>\n",
       "      <td>Annual</td>\n",
       "      <td>Homepage-Log in-Other</td>\n",
       "    </tr>\n",
       "    <tr>\n",
       "      <th>1</th>\n",
       "      <td>1516</td>\n",
       "      <td>2980248</td>\n",
       "      <td>Annual</td>\n",
       "      <td>Other-Sign up-Log in</td>\n",
       "    </tr>\n",
       "    <tr>\n",
       "      <th>2</th>\n",
       "      <td>1516</td>\n",
       "      <td>2992252</td>\n",
       "      <td>Annual</td>\n",
       "      <td>Log in</td>\n",
       "    </tr>\n",
       "    <tr>\n",
       "      <th>3</th>\n",
       "      <td>1516</td>\n",
       "      <td>3070491</td>\n",
       "      <td>Annual</td>\n",
       "      <td>Homepage-Log in</td>\n",
       "    </tr>\n",
       "    <tr>\n",
       "      <th>4</th>\n",
       "      <td>1516</td>\n",
       "      <td>3709807</td>\n",
       "      <td>Annual</td>\n",
       "      <td>Log in</td>\n",
       "    </tr>\n",
       "  </tbody>\n",
       "</table>\n",
       "</div>"
      ],
      "text/plain": [
       "   user_id  session_id subscription_type           user_journey\n",
       "0     1516     2980231            Annual  Homepage-Log in-Other\n",
       "1     1516     2980248            Annual   Other-Sign up-Log in\n",
       "2     1516     2992252            Annual                 Log in\n",
       "3     1516     3070491            Annual        Homepage-Log in\n",
       "4     1516     3709807            Annual                 Log in"
      ]
     },
     "execution_count": 155,
     "metadata": {},
     "output_type": "execute_result"
    }
   ],
   "source": [
    "data.head()"
   ]
  },
  {
   "cell_type": "markdown",
   "metadata": {},
   "source": [
    "### 2. Group user_journey(s) by user_id"
   ]
  },
  {
   "cell_type": "code",
   "execution_count": 158,
   "metadata": {},
   "outputs": [],
   "source": [
    "def group_by(datafr, group_by_col='user_id', target_col='user_journey', sessions='all', count_from='last'):\n",
    "    data[target_col] = datafr.groupby([group_by_col])[target_col].transform(lambda x: \"-\".join(x.str.strip()))\n",
    "    data_cl = datafr.copy(deep=True)\n",
    "    data_cl.drop_duplicates(subset=\"user_id\")\n",
    "    return data_cl\n"
   ]
  },
  {
   "cell_type": "code",
   "execution_count": 150,
   "metadata": {},
   "outputs": [],
   "source": [
    "# def inspect(x):\n",
    "#     return print(type(x))\n"
   ]
  },
  {
   "cell_type": "code",
   "execution_count": 151,
   "metadata": {},
   "outputs": [],
   "source": [
    "# data.groupby(['user_id'])[['user_journey']].transform(lambda x: inspect(x))"
   ]
  },
  {
   "cell_type": "code",
   "execution_count": 159,
   "metadata": {},
   "outputs": [
    {
     "data": {
      "text/html": [
       "<div>\n",
       "<style scoped>\n",
       "    .dataframe tbody tr th:only-of-type {\n",
       "        vertical-align: middle;\n",
       "    }\n",
       "\n",
       "    .dataframe tbody tr th {\n",
       "        vertical-align: top;\n",
       "    }\n",
       "\n",
       "    .dataframe thead th {\n",
       "        text-align: right;\n",
       "    }\n",
       "</style>\n",
       "<table border=\"1\" class=\"dataframe\">\n",
       "  <thead>\n",
       "    <tr style=\"text-align: right;\">\n",
       "      <th></th>\n",
       "      <th>user_id</th>\n",
       "      <th>session_id</th>\n",
       "      <th>subscription_type</th>\n",
       "      <th>user_journey</th>\n",
       "    </tr>\n",
       "  </thead>\n",
       "  <tbody>\n",
       "    <tr>\n",
       "      <th>0</th>\n",
       "      <td>1516</td>\n",
       "      <td>2980231</td>\n",
       "      <td>Annual</td>\n",
       "      <td>Homepage-Log in-Other-Other-Sign up-Log in-Log...</td>\n",
       "    </tr>\n",
       "    <tr>\n",
       "      <th>1</th>\n",
       "      <td>1516</td>\n",
       "      <td>2980248</td>\n",
       "      <td>Annual</td>\n",
       "      <td>Homepage-Log in-Other-Other-Sign up-Log in-Log...</td>\n",
       "    </tr>\n",
       "    <tr>\n",
       "      <th>2</th>\n",
       "      <td>1516</td>\n",
       "      <td>2992252</td>\n",
       "      <td>Annual</td>\n",
       "      <td>Homepage-Log in-Other-Other-Sign up-Log in-Log...</td>\n",
       "    </tr>\n",
       "    <tr>\n",
       "      <th>3</th>\n",
       "      <td>1516</td>\n",
       "      <td>3070491</td>\n",
       "      <td>Annual</td>\n",
       "      <td>Homepage-Log in-Other-Other-Sign up-Log in-Log...</td>\n",
       "    </tr>\n",
       "    <tr>\n",
       "      <th>4</th>\n",
       "      <td>1516</td>\n",
       "      <td>3709807</td>\n",
       "      <td>Annual</td>\n",
       "      <td>Homepage-Log in-Other-Other-Sign up-Log in-Log...</td>\n",
       "    </tr>\n",
       "  </tbody>\n",
       "</table>\n",
       "</div>"
      ],
      "text/plain": [
       "   user_id  session_id subscription_type  \\\n",
       "0     1516     2980231            Annual   \n",
       "1     1516     2980248            Annual   \n",
       "2     1516     2992252            Annual   \n",
       "3     1516     3070491            Annual   \n",
       "4     1516     3709807            Annual   \n",
       "\n",
       "                                        user_journey  \n",
       "0  Homepage-Log in-Other-Other-Sign up-Log in-Log...  \n",
       "1  Homepage-Log in-Other-Other-Sign up-Log in-Log...  \n",
       "2  Homepage-Log in-Other-Other-Sign up-Log in-Log...  \n",
       "3  Homepage-Log in-Other-Other-Sign up-Log in-Log...  \n",
       "4  Homepage-Log in-Other-Other-Sign up-Log in-Log...  "
      ]
     },
     "execution_count": 159,
     "metadata": {},
     "output_type": "execute_result"
    }
   ],
   "source": [
    "# data['user_journey'] = data.groupby(['user_id'])['user_journey'].transform(lambda x: \"-\".join(x.str.strip()))\n",
    "# data = data.drop_duplicates(subset=\"user_id\")\n",
    "clean_data = group_by(data)\n",
    "clean_data.head()"
   ]
  },
  {
   "cell_type": "code",
   "execution_count": 145,
   "metadata": {},
   "outputs": [
    {
     "data": {
      "text/plain": [
       "\" find out why groupby(['user_id'])[['user_journey']] was different -- the [[]] makes the result of the groupby\\na dataframe, this then doesn't work on transform, as transform only works on one Series at a time. In our case, it\\nconcatenates all the journeys grouoped by user. If we wanted to subtract 2 columns grouped by user, we'd have to use apply\\n\""
      ]
     },
     "execution_count": 145,
     "metadata": {},
     "output_type": "execute_result"
    }
   ],
   "source": [
    "''' find out why groupby(['user_id'])[['user_journey']] was different -- the [[]] makes the result of the groupby\n",
    "a dataframe, this then doesn't work on transform, as transform only works on one Series at a time. In our case, it\n",
    "concatenates all the journeys grouoped by user. If we wanted to subtract 2 columns grouped by user, we'd have to use apply\n",
    "'''\n",
    "# find out why x.str.join('') was different -- str.join is a method for Series, join only works on iterables, not dataframes"
   ]
  },
  {
   "cell_type": "markdown",
   "metadata": {},
   "source": [
    "### 3. Remove all unnecessary pages (data scientist's choice)"
   ]
  },
  {
   "cell_type": "markdown",
   "metadata": {},
   "source": []
  },
  {
   "cell_type": "code",
   "execution_count": 160,
   "metadata": {},
   "outputs": [],
   "source": [
    "def remove_pages(data, pages:list, target_col='user_journey'):\n",
    "    kept_pages_col = []\n",
    "    for list_ in data[target_col]:\n",
    "        lst = list_.split('-')\n",
    "        kept_pages = []\n",
    "        for page in lst:\n",
    "            if page not in pages:\n",
    "                kept_pages.append(page)\n",
    "        kept_pages_col.append(kept_pages)\n",
    "\n",
    "    # turn the list of lists (new_journey_col) into a series to be able to join the words back with '-'\n",
    "    s = pd.Series(kept_pages_col)\n",
    "    new_pages = s.str.join('-')\n",
    "\n",
    "    # create a copy of the original dataframe with an updated column\n",
    "    stripped_pages_data = data.copy(deep=True)\n",
    "    stripped_pages_data[target_col] = new_pages\n",
    "    return stripped_pages_data"
   ]
  },
  {
   "cell_type": "code",
   "execution_count": 162,
   "metadata": {},
   "outputs": [
    {
     "data": {
      "text/html": [
       "<div>\n",
       "<style scoped>\n",
       "    .dataframe tbody tr th:only-of-type {\n",
       "        vertical-align: middle;\n",
       "    }\n",
       "\n",
       "    .dataframe tbody tr th {\n",
       "        vertical-align: top;\n",
       "    }\n",
       "\n",
       "    .dataframe thead th {\n",
       "        text-align: right;\n",
       "    }\n",
       "</style>\n",
       "<table border=\"1\" class=\"dataframe\">\n",
       "  <thead>\n",
       "    <tr style=\"text-align: right;\">\n",
       "      <th></th>\n",
       "      <th>user_id</th>\n",
       "      <th>session_id</th>\n",
       "      <th>subscription_type</th>\n",
       "      <th>user_journey</th>\n",
       "    </tr>\n",
       "  </thead>\n",
       "  <tbody>\n",
       "    <tr>\n",
       "      <th>0</th>\n",
       "      <td>1516</td>\n",
       "      <td>2980231</td>\n",
       "      <td>Annual</td>\n",
       "      <td>Homepage-Sign up-Homepage-Checkout-Checkout-Ch...</td>\n",
       "    </tr>\n",
       "    <tr>\n",
       "      <th>1</th>\n",
       "      <td>1516</td>\n",
       "      <td>2980248</td>\n",
       "      <td>Annual</td>\n",
       "      <td>Homepage-Sign up-Homepage-Checkout-Checkout-Ch...</td>\n",
       "    </tr>\n",
       "    <tr>\n",
       "      <th>2</th>\n",
       "      <td>1516</td>\n",
       "      <td>2992252</td>\n",
       "      <td>Annual</td>\n",
       "      <td>Homepage-Sign up-Homepage-Checkout-Checkout-Ch...</td>\n",
       "    </tr>\n",
       "    <tr>\n",
       "      <th>3</th>\n",
       "      <td>1516</td>\n",
       "      <td>3070491</td>\n",
       "      <td>Annual</td>\n",
       "      <td>Homepage-Sign up-Homepage-Checkout-Checkout-Ch...</td>\n",
       "    </tr>\n",
       "    <tr>\n",
       "      <th>4</th>\n",
       "      <td>1516</td>\n",
       "      <td>3709807</td>\n",
       "      <td>Annual</td>\n",
       "      <td>Homepage-Sign up-Homepage-Checkout-Checkout-Ch...</td>\n",
       "    </tr>\n",
       "    <tr>\n",
       "      <th>...</th>\n",
       "      <td>...</td>\n",
       "      <td>...</td>\n",
       "      <td>...</td>\n",
       "      <td>...</td>\n",
       "    </tr>\n",
       "    <tr>\n",
       "      <th>9930</th>\n",
       "      <td>509095</td>\n",
       "      <td>4487613</td>\n",
       "      <td>Annual</td>\n",
       "      <td></td>\n",
       "    </tr>\n",
       "    <tr>\n",
       "      <th>9931</th>\n",
       "      <td>509095</td>\n",
       "      <td>4842565</td>\n",
       "      <td>Annual</td>\n",
       "      <td></td>\n",
       "    </tr>\n",
       "    <tr>\n",
       "      <th>9932</th>\n",
       "      <td>509095</td>\n",
       "      <td>4843103</td>\n",
       "      <td>Annual</td>\n",
       "      <td></td>\n",
       "    </tr>\n",
       "    <tr>\n",
       "      <th>9933</th>\n",
       "      <td>509095</td>\n",
       "      <td>4845316</td>\n",
       "      <td>Annual</td>\n",
       "      <td></td>\n",
       "    </tr>\n",
       "    <tr>\n",
       "      <th>9934</th>\n",
       "      <td>509096</td>\n",
       "      <td>4845427</td>\n",
       "      <td>Annual</td>\n",
       "      <td>Coupon</td>\n",
       "    </tr>\n",
       "  </tbody>\n",
       "</table>\n",
       "<p>9935 rows × 4 columns</p>\n",
       "</div>"
      ],
      "text/plain": [
       "      user_id  session_id subscription_type  \\\n",
       "0        1516     2980231            Annual   \n",
       "1        1516     2980248            Annual   \n",
       "2        1516     2992252            Annual   \n",
       "3        1516     3070491            Annual   \n",
       "4        1516     3709807            Annual   \n",
       "...       ...         ...               ...   \n",
       "9930   509095     4487613            Annual   \n",
       "9931   509095     4842565            Annual   \n",
       "9932   509095     4843103            Annual   \n",
       "9933   509095     4845316            Annual   \n",
       "9934   509096     4845427            Annual   \n",
       "\n",
       "                                           user_journey  \n",
       "0     Homepage-Sign up-Homepage-Checkout-Checkout-Ch...  \n",
       "1     Homepage-Sign up-Homepage-Checkout-Checkout-Ch...  \n",
       "2     Homepage-Sign up-Homepage-Checkout-Checkout-Ch...  \n",
       "3     Homepage-Sign up-Homepage-Checkout-Checkout-Ch...  \n",
       "4     Homepage-Sign up-Homepage-Checkout-Checkout-Ch...  \n",
       "...                                                 ...  \n",
       "9930                                                     \n",
       "9931                                                     \n",
       "9932                                                     \n",
       "9933                                                     \n",
       "9934                                             Coupon  \n",
       "\n",
       "[9935 rows x 4 columns]"
      ]
     },
     "execution_count": 162,
     "metadata": {},
     "output_type": "execute_result"
    }
   ],
   "source": [
    "remove_pages(clean_data, ['Log in', 'Other'])"
   ]
  },
  {
   "cell_type": "code",
   "execution_count": null,
   "metadata": {},
   "outputs": [],
   "source": []
  }
 ],
 "metadata": {
  "kernelspec": {
   "display_name": "365datascience",
   "language": "python",
   "name": "python3"
  },
  "language_info": {
   "codemirror_mode": {
    "name": "ipython",
    "version": 3
   },
   "file_extension": ".py",
   "mimetype": "text/x-python",
   "name": "python",
   "nbconvert_exporter": "python",
   "pygments_lexer": "ipython3",
   "version": "3.10.6"
  }
 },
 "nbformat": 4,
 "nbformat_minor": 2
}
