{
 "cells": [
  {
   "cell_type": "code",
   "execution_count": 1,
   "metadata": {},
   "outputs": [],
   "source": [
    "import pandas as pd\n",
    "import numpy as np\n",
    "from customer_journey import remove_page_duplicates, remove_pages, group_by\n",
    "from collections import Counter"
   ]
  },
  {
   "cell_type": "code",
   "execution_count": 2,
   "metadata": {},
   "outputs": [],
   "source": [
    "df = pd.read_csv(\"user_journey_raw.csv\")"
   ]
  },
  {
   "cell_type": "code",
   "execution_count": 3,
   "metadata": {},
   "outputs": [
    {
     "data": {
      "text/html": [
       "<div>\n",
       "<style scoped>\n",
       "    .dataframe tbody tr th:only-of-type {\n",
       "        vertical-align: middle;\n",
       "    }\n",
       "\n",
       "    .dataframe tbody tr th {\n",
       "        vertical-align: top;\n",
       "    }\n",
       "\n",
       "    .dataframe thead th {\n",
       "        text-align: right;\n",
       "    }\n",
       "</style>\n",
       "<table border=\"1\" class=\"dataframe\">\n",
       "  <thead>\n",
       "    <tr style=\"text-align: right;\">\n",
       "      <th></th>\n",
       "      <th>user_id</th>\n",
       "      <th>session_id</th>\n",
       "      <th>subscription_type</th>\n",
       "      <th>user_journey</th>\n",
       "    </tr>\n",
       "  </thead>\n",
       "  <tbody>\n",
       "    <tr>\n",
       "      <th>0</th>\n",
       "      <td>1516</td>\n",
       "      <td>2980231</td>\n",
       "      <td>Annual</td>\n",
       "      <td>Homepage-Log in-Log in-Log in-Log in-Log in-Lo...</td>\n",
       "    </tr>\n",
       "    <tr>\n",
       "      <th>1</th>\n",
       "      <td>1516</td>\n",
       "      <td>2980248</td>\n",
       "      <td>Annual</td>\n",
       "      <td>Other-Sign up-Sign up-Sign up-Sign up-Sign up-...</td>\n",
       "    </tr>\n",
       "    <tr>\n",
       "      <th>2</th>\n",
       "      <td>1516</td>\n",
       "      <td>2992252</td>\n",
       "      <td>Annual</td>\n",
       "      <td>Log in-Log in-Log in-Log in-Log in-Log in</td>\n",
       "    </tr>\n",
       "    <tr>\n",
       "      <th>3</th>\n",
       "      <td>1516</td>\n",
       "      <td>3070491</td>\n",
       "      <td>Annual</td>\n",
       "      <td>Homepage-Log in-Log in-Log in-Log in-Log in-Lo...</td>\n",
       "    </tr>\n",
       "    <tr>\n",
       "      <th>4</th>\n",
       "      <td>1516</td>\n",
       "      <td>3709807</td>\n",
       "      <td>Annual</td>\n",
       "      <td>Log in-Log in-Log in-Log in-Log in-Log in-Log ...</td>\n",
       "    </tr>\n",
       "  </tbody>\n",
       "</table>\n",
       "</div>"
      ],
      "text/plain": [
       "   user_id  session_id subscription_type  \\\n",
       "0     1516     2980231            Annual   \n",
       "1     1516     2980248            Annual   \n",
       "2     1516     2992252            Annual   \n",
       "3     1516     3070491            Annual   \n",
       "4     1516     3709807            Annual   \n",
       "\n",
       "                                        user_journey  \n",
       "0  Homepage-Log in-Log in-Log in-Log in-Log in-Lo...  \n",
       "1  Other-Sign up-Sign up-Sign up-Sign up-Sign up-...  \n",
       "2          Log in-Log in-Log in-Log in-Log in-Log in  \n",
       "3  Homepage-Log in-Log in-Log in-Log in-Log in-Lo...  \n",
       "4  Log in-Log in-Log in-Log in-Log in-Log in-Log ...  "
      ]
     },
     "execution_count": 3,
     "metadata": {},
     "output_type": "execute_result"
    }
   ],
   "source": [
    "df.head()"
   ]
  },
  {
   "cell_type": "markdown",
   "metadata": {},
   "source": [
    "## Supporting functions\n"
   ]
  },
  {
   "cell_type": "code",
   "execution_count": 4,
   "metadata": {},
   "outputs": [],
   "source": [
    "def make_mask(data, match, target_column):\n",
    "    \"\"\"\n",
    "    Returns a boolean list (mask) indicating when match is contained in the target_column of data.\n",
    "\n",
    "        Parameters:\n",
    "            data (pandas.DataFrame): The DataFrame for which we will create the mask\n",
    "\n",
    "            match (str): The string to be matched in target_column. If \"All\", creates\n",
    "                a mask full of True values (i.e. matching the whole DataFrame)\n",
    "\n",
    "            target_column (str): The column in which to search for the string match\n",
    "\n",
    "\n",
    "        Returns:\n",
    "            mask (bool list): A list of bool values mapping the locations where match is contained in target_column\n",
    "    \"\"\"\n",
    "\n",
    "    if match == 'All':\n",
    "        size = len(data[target_column])\n",
    "        mask =[True]*size\n",
    "    else:\n",
    "        mask = list(data[target_column] == match)\n",
    "    return mask\n"
   ]
  },
  {
   "cell_type": "code",
   "execution_count": 5,
   "metadata": {},
   "outputs": [],
   "source": [
    "def split_pages(data, target_column='user_journey'):\n",
    "    \"\"\"\n",
    "    Given a pandas DataFrame, split the user journey strings into separate pages.\n",
    "    It does not update the DataFrame, rather returns a new numpy array.\n",
    "\n",
    "    A user journey string is a string of the pages a user visited before purchassing, separated by a dash '-'.\n",
    "    This function removes the dash and obtains a numpy array of all the pages (as strings).\n",
    "\n",
    "\n",
    "        Parameters:\n",
    "            data (pandas.DataFrame): The DataFrame containg user journeys data\n",
    "\n",
    "            target_column (str): The column containing the user journey strings\n",
    "                Default: 'user_journey', the expected name for the column\n",
    "\n",
    "\n",
    "        Returns:\n",
    "            user_journey (numpy.array): A numpy array containing arrays of the pages (str)\n",
    "    \"\"\"\n",
    "    #  Transform the user journey column to a numpy array\n",
    "    # numpy.array needed in order to be able to use a mask (filter)\n",
    "    user_journeys = np.array(data[target_column])\n",
    "\n",
    "    # Split the journey strings into pages -> [[\"page1\", \"page2\", ...\"pageN\"], ...]\n",
    "    for i in range(len(user_journeys)):\n",
    "        user_journeys[i] = np.array(user_journeys[i].split(\"-\"))\n",
    "\n",
    "\n",
    "    return user_journeys"
   ]
  },
  {
   "cell_type": "code",
   "execution_count": 6,
   "metadata": {},
   "outputs": [
    {
     "data": {
      "text/plain": [
       "array([array(['Homepage', 'Log in', 'Log in', 'Log in', 'Log in', 'Log in',\n",
       "              'Log in', 'Log in', 'Log in', 'Log in', 'Log in', 'Log in',\n",
       "              'Log in', 'Log in', 'Log in', 'Log in', 'Log in', 'Other'],\n",
       "             dtype='<U8')                                                  ,\n",
       "       array(['Other', 'Sign up', 'Sign up', 'Sign up', 'Sign up', 'Sign up',\n",
       "              'Log in', 'Log in', 'Log in', 'Log in', 'Log in', 'Log in'],\n",
       "             dtype='<U7')                                                    ,\n",
       "       array(['Log in', 'Log in', 'Log in', 'Log in', 'Log in', 'Log in'],\n",
       "             dtype='<U6')                                                 ,\n",
       "       ..., array(['Other', 'Other'], dtype='<U5'),\n",
       "       array(['Other', 'Other', 'Other', 'Other', 'Other', 'Other', 'Other',\n",
       "              'Other', 'Other', 'Other', 'Other', 'Other', 'Other', 'Other',\n",
       "              'Other', 'Other', 'Other', 'Other', 'Other', 'Other'], dtype='<U5'),\n",
       "       array(['Other', 'Other', 'Other', 'Other', 'Other', 'Other', 'Coupon',\n",
       "              'Coupon', 'Coupon', 'Coupon', 'Coupon', 'Coupon', 'Coupon',\n",
       "              'Coupon', 'Coupon', 'Coupon'], dtype='<U6')                    ],\n",
       "      dtype=object)"
      ]
     },
     "execution_count": 6,
     "metadata": {},
     "output_type": "execute_result"
    }
   ],
   "source": [
    "split_pages(df)"
   ]
  },
  {
   "cell_type": "code",
   "execution_count": 7,
   "metadata": {},
   "outputs": [],
   "source": [
    "def remove_consecutive_duplicates(journey):\n",
    "    \"\"\"Removes consecutive duplicates from a list.\"\"\"\n",
    "    result = []\n",
    "    # previous = None\n",
    "    for page in journey:\n",
    "        if page not in result:\n",
    "            result.append(page)\n",
    "            # previous = page\n",
    "    return result"
   ]
  },
  {
   "cell_type": "markdown",
   "metadata": {},
   "source": [
    "## Main functions\n"
   ]
  },
  {
   "cell_type": "markdown",
   "metadata": {},
   "source": [
    "### 1. Page count"
   ]
  },
  {
   "cell_type": "code",
   "execution_count": 8,
   "metadata": {},
   "outputs": [],
   "source": [
    "# The most fundamental metric.\n",
    "def page_count(data, target_column=\"user_journey\", plan=\"All\", mask=None):\n",
    "    \"\"\"\n",
    "    Calculates the number of times each page is found in the user journey strings.\n",
    "\n",
    "        Parameters:\n",
    "            data (pandas.DataFrame): The DataFrame containing the user journeys data\n",
    "\n",
    "            target_column (str): The column containing the user journey strings\n",
    "                Default: 'user_journey', the expected name of the column\n",
    "\n",
    "            plan (str): The subscription plan to filter the user journeys by. If \"All\", consideres all user journeys\n",
    "                without filtering\n",
    "                Default: \"All\", includes all data\n",
    "\n",
    "            mask (bool list): A user provided boolean list to use when selecting which data to analyze\n",
    "                Default: None, consider plan instead\n",
    "\n",
    "            sort (bool): Whether to sort the resultant dictionary by values in decreasing order\n",
    "                Default: True, return a sorted dictionary\n",
    "\n",
    "\n",
    "        Returns:\n",
    "            dict {str: int}: A dictionary of every page and its count\n",
    "                {page: count}\n",
    "    \"\"\"\n",
    "    # Set the proper mask if none was provided by the user\n",
    "    if mask is None:\n",
    "        mask = make_mask(data, plan, \"subscription_type\")\n",
    "    # print(mask)\n",
    "\n",
    "    # Obtain the relevant array of user journey pages\n",
    "    user_journeys = split_pages(data, target_column)\n",
    "    user_journeys = user_journeys[mask]\n",
    "\n",
    "    # Populate the dictionary with page counts\n",
    "    page_to_count = {}\n",
    "    for journey in user_journeys:\n",
    "        for page in journey:\n",
    "            if page not in page_to_count.keys():\n",
    "                page_to_count[page] = 1\n",
    "            else:\n",
    "                page_to_count[page] = page_to_count[page] + 1\n",
    "    sorted_keys = sorted(page_to_count, key = page_to_count.get, reverse = True)\n",
    "    sorted_results = {key: page_to_count[key] for key in sorted_keys}\n",
    "    return sorted_results"
   ]
  },
  {
   "cell_type": "markdown",
   "metadata": {},
   "source": [
    "### 2. Page presence"
   ]
  },
  {
   "cell_type": "code",
   "execution_count": 9,
   "metadata": {},
   "outputs": [],
   "source": [
    "def page_presence(data, target_column = 'user_journey', plan = \"All\", mask = None):\n",
    "    \"\"\"\n",
    "    Finds the number of journeys each page is present in (from the user jounrey strings), i.e. the most popular pages in all user journeys\n",
    "\n",
    "        Parameters:\n",
    "            data (pandas.DataFrame): The DataFrame containing the user journeys data\n",
    "\n",
    "            target_column (str): The column containing the user journey strings\n",
    "                Default: 'user_journey', the expected name of the column\n",
    "\n",
    "            plan (str): The subscription plan to filter the user journeys by. If \"All\", consideres all user journeys\n",
    "                without filtering\n",
    "                Default: \"All\", includes all data\n",
    "\n",
    "            mask (bool list): A user provided boolean list to use when selecting which data to analyze\n",
    "                Default: None, consider plan instead\n",
    "\n",
    "            sort (bool): Whether to sort the resultant dictionary by values in decreasing order\n",
    "                Default: True, return a sorted dictionary\n",
    "\n",
    "\n",
    "        Returns:\n",
    "            dict {str: int}: A dictionary of every page and the number of journeys it is present in\n",
    "                {page: count_journeys}\n",
    "    \"\"\"\n",
    "    # Set the proper mask if none was provided by the user\n",
    "    if mask is None:\n",
    "        mask = make_mask(data, plan, \"subscription_type\")\n",
    "\n",
    "    # Obtain the relevant array of user journey pages\n",
    "    user_journeys = split_pages(data, target_column)\n",
    "    user_journeys = user_journeys[mask]\n",
    "\n",
    "\n",
    "    present_pages = {}\n",
    "\n",
    "    for journey in user_journeys:\n",
    "        pages = set(journey) # Unique pages in a journey\n",
    "        for page in pages:\n",
    "            present_pages[page] = present_pages.get(page,0)+1\n",
    "\n",
    "        # Create a new dictionary, sorted by values (page counts) in decreasing order\n",
    "\n",
    "        sorted_keys = sorted(present_pages, key = present_pages.get, reverse = True)\n",
    "        sorted_results = {key: present_pages[key] for key in sorted_keys}\n",
    "\n",
    "\n",
    "\n",
    "    return sorted_results"
   ]
  },
  {
   "cell_type": "markdown",
   "metadata": {},
   "source": [
    "### 3. Page sequences"
   ]
  },
  {
   "cell_type": "code",
   "execution_count": 10,
   "metadata": {},
   "outputs": [],
   "source": [
    "def page_sequence(data, number_of_pages:int, show_results:int, target_column='user_journey', plan = \"All\", mask = None, sort = True):\n",
    "    \"\"\"\n",
    "    Finds the top consecutive page strings and their count. I will consult this metric if I’m interested in the sequence of\n",
    "    n pages that most often show up.\n",
    "\n",
    "    Parameters:\n",
    "            data (pandas.DataFrame): The DataFrame containing the user journeys data\n",
    "\n",
    "            number_of_pages (int): The amount of consecutive pages to include in each subset\n",
    "                Default: 3\n",
    "\n",
    "            show_results (int): The number of results to return\n",
    "                Default: 10\n",
    "\n",
    "            target_column (str): The column containing the user journey strings\n",
    "                Default: 'user_journey', the expected name of the column\n",
    "\n",
    "            plan (str): The subscription plan to filter the user journeys by. If \"All\", consideres all user journeys\n",
    "                without filtering\n",
    "                Default: \"All\", includes all data\n",
    "\n",
    "            mask (bool list): A user provided boolean list to use when selecting which data to analyze\n",
    "                Default: None, consider plan instead\n",
    "\n",
    "            sort (bool): Whether to sort the resultant dictionary by values in decreasing order\n",
    "                Default: True, return a sorted dictionary\n",
    "\n",
    "\n",
    "        Returns:\n",
    "            dict {tuple(str): int}: A dictionary where the key is a page combination tuple and the value is its count.\n",
    "                The result is sorted and contains only the top (show_results) tuples.\n",
    "                If sort = False, return all page combinations, unsorted.\n",
    "                {(page1, page2, ... pageN): count}\n",
    "    \"\"\"\n",
    "\n",
    "    # Set the proper mask if none was provided by the user\n",
    "    if mask is None:\n",
    "        mask = make_mask(data, plan, \"subscription_type\")\n",
    "\n",
    "\n",
    "    # Obtain the relevant array of user journey pages\n",
    "    user_journeys = split_pages(data, target_column)\n",
    "    user_journeys = user_journeys[mask]\n",
    "\n",
    "\n",
    "    # Define the empty result dictionary\n",
    "    results = {}\n",
    "\n",
    "    # Populate the result dictionary\n",
    "    for journey in user_journeys:\n",
    "        journey = remove_consecutive_duplicates(journey)\n",
    "\n",
    "        flag = {} # Used to stop double counting of the same page combination in the same journey\n",
    "\n",
    "        for i in range(len(journey) - number_of_pages + 1):\n",
    "\n",
    "            page_combination = tuple(journey[i : i + number_of_pages])\n",
    "\n",
    "            if flag.get(page_combination, False): continue # If we have counted it already, skip it\n",
    "\n",
    "            results[page_combination] = results.get(page_combination, 0) + 1\n",
    "            flag[page_combination] = True # Flag this combination as already counted in this journey\n",
    "\n",
    "        if not sort:\n",
    "            return results\n",
    "\n",
    "    # Create a new dictionary, sorted by values (page counts) in decreasing order\n",
    "    # Take only top 'show_results' pages\n",
    "    sorted_keys = sorted(results, key = results.get, reverse = True)[:show_results]\n",
    "    sorted_results = {key: results[key] for key in sorted_keys}\n",
    "\n",
    "\n",
    "\n",
    "    return sorted_results\n"
   ]
  },
  {
   "cell_type": "markdown",
   "metadata": {},
   "source": [
    "### 4. Journey length"
   ]
  },
  {
   "cell_type": "code",
   "execution_count": 21,
   "metadata": {},
   "outputs": [],
   "source": [
    "# the average length of a user's journey in terms of pages, per user session, I assume?\n",
    "def journey_length(data, target_column = 'user_journey', plan = \"All\", mask = None):\n",
    "\n",
    "    # Set the proper mask if none was provided by the user\n",
    "    if mask is None:\n",
    "        mask = make_mask(data, plan, \"subscription_type\")\n",
    "\n",
    "\n",
    "    # Obtain the relevant array of user journey pages\n",
    "    user_journeys = split_pages(data, target_column)\n",
    "    user_journeys = user_journeys[mask]\n",
    "\n",
    "    journey_lengths = []\n",
    "    for journey in user_journeys:\n",
    "        length = len(journey)\n",
    "        journey_lengths.append(length)\n",
    "    return np.mean(journey_lengths)"
   ]
  },
  {
   "cell_type": "markdown",
   "metadata": {},
   "source": [
    "## Results\n"
   ]
  },
  {
   "cell_type": "markdown",
   "metadata": {},
   "source": [
    "#### 1. Page count"
   ]
  },
  {
   "cell_type": "code",
   "execution_count": 22,
   "metadata": {},
   "outputs": [
    {
     "data": {
      "text/plain": [
       "{'Checkout': 17896,\n",
       " 'Log in': 17265,\n",
       " 'Coupon': 11855,\n",
       " 'Courses': 7149,\n",
       " 'Sign up': 6824,\n",
       " 'Other': 6820,\n",
       " 'Career tracks': 4910,\n",
       " 'Homepage': 3808,\n",
       " 'Career track certificate': 3044,\n",
       " 'Resources center': 2266,\n",
       " 'Pricing': 2262,\n",
       " 'Course certificate': 1114,\n",
       " 'Success stories': 604,\n",
       " 'Upcoming courses': 188,\n",
       " 'Instructors': 76,\n",
       " 'Blog': 36,\n",
       " 'About us': 33}"
      ]
     },
     "execution_count": 22,
     "metadata": {},
     "output_type": "execute_result"
    }
   ],
   "source": [
    "page_count(df)"
   ]
  },
  {
   "cell_type": "markdown",
   "metadata": {},
   "source": [
    "#### 2. Page presence"
   ]
  },
  {
   "cell_type": "code",
   "execution_count": 23,
   "metadata": {},
   "outputs": [
    {
     "data": {
      "text/plain": [
       "{'Log in': 3798,\n",
       " 'Homepage': 2396,\n",
       " 'Checkout': 2021,\n",
       " 'Other': 1535,\n",
       " 'Sign up': 1210,\n",
       " 'Coupon': 1041,\n",
       " 'Pricing': 929,\n",
       " 'Courses': 908,\n",
       " 'Career tracks': 747,\n",
       " 'Career track certificate': 355,\n",
       " 'Resources center': 339,\n",
       " 'Course certificate': 191,\n",
       " 'Upcoming courses': 101,\n",
       " 'Success stories': 49,\n",
       " 'Instructors': 26,\n",
       " 'About us': 22,\n",
       " 'Blog': 15}"
      ]
     },
     "execution_count": 23,
     "metadata": {},
     "output_type": "execute_result"
    }
   ],
   "source": [
    "page_presence(df)"
   ]
  },
  {
   "cell_type": "markdown",
   "metadata": {},
   "source": [
    "#### 3. Page sequences"
   ]
  },
  {
   "cell_type": "code",
   "execution_count": 24,
   "metadata": {},
   "outputs": [
    {
     "data": {
      "text/plain": [
       "{('Homepage', 'Pricing', 'Checkout'): 103,\n",
       " ('Homepage', 'Sign up', 'Log in'): 70,\n",
       " ('Homepage', 'Career tracks', 'Sign up'): 58,\n",
       " ('Homepage', 'Career tracks', 'Courses'): 54,\n",
       " ('Homepage', 'Courses', 'Sign up'): 40,\n",
       " ('Homepage', 'Pricing', 'Sign up'): 40,\n",
       " ('Courses', 'Sign up', 'Log in'): 35,\n",
       " ('Homepage', 'Courses', 'Career tracks'): 35,\n",
       " ('Homepage', 'Pricing', 'Courses'): 34,\n",
       " ('Homepage', 'Career tracks', 'Pricing'): 30}"
      ]
     },
     "execution_count": 24,
     "metadata": {},
     "output_type": "execute_result"
    }
   ],
   "source": [
    "page_sequence(df, number_of_pages = 3, show_results = 10)"
   ]
  },
  {
   "cell_type": "markdown",
   "metadata": {},
   "source": [
    "#### 4. Average journey length"
   ]
  },
  {
   "cell_type": "code",
   "execution_count": 25,
   "metadata": {},
   "outputs": [
    {
     "data": {
      "text/plain": [
       "8.671363865123302"
      ]
     },
     "execution_count": 25,
     "metadata": {},
     "output_type": "execute_result"
    }
   ],
   "source": [
    "journey_length(df)"
   ]
  },
  {
   "cell_type": "code",
   "execution_count": null,
   "metadata": {},
   "outputs": [],
   "source": []
  }
 ],
 "metadata": {
  "kernelspec": {
   "display_name": "365datascience",
   "language": "python",
   "name": "python3"
  },
  "language_info": {
   "codemirror_mode": {
    "name": "ipython",
    "version": 3
   },
   "file_extension": ".py",
   "mimetype": "text/x-python",
   "name": "python",
   "nbconvert_exporter": "python",
   "pygments_lexer": "ipython3",
   "version": "3.10.6"
  }
 },
 "nbformat": 4,
 "nbformat_minor": 2
}
